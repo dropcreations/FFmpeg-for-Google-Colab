#@markdown <br><center><img src='https://raw.githubusercontent.com/cheems/FFmpeg-for-GDrive/master/res/ffmpeg.png' height="50" alt="FFmpeg-logo"/></center>
#@markdown <center><h3><b>Install FFmpeg 4.4</b></h3></center><br>
!sudo curl -L https://github.com/BtbN/FFmpeg-Builds/releases/download/latest/ffmpeg-n4.4-latest-linux64-gpl-4.4.tar.xz -o /usr/local/bin/ffmpeg.tar.xz
!sudo apt update
!sudo apt install p7zip-full p7zip-rar unrar rar
%cd /usr/local/bin/
!7z e /usr/local/bin/ffmpeg.tar.xz
!7z e /usr/local/bin/ffmpeg.tar
!sudo chmod a+rx /usr/local/bin/ffmpeg
%cd /content/
print("Successfully Installed.")
