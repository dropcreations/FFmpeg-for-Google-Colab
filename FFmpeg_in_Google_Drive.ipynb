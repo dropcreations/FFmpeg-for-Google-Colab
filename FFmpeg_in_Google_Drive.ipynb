{
  "nbformat": 4,
  "nbformat_minor": 0,
  "metadata": {
    "colab": {
      "name": "FFmpeg in Google Drive.ipynb",
      "provenance": [],
      "collapsed_sections": [],
      "authorship_tag": "ABX9TyMgcNGLtrFiMDZKMpfxuVcX",
      "include_colab_link": true
    },
    "kernelspec": {
      "name": "python3",
      "display_name": "Python 3"
    },
    "language_info": {
      "name": "python"
    }
  },
  "cells": [
    {
      "cell_type": "markdown",
      "metadata": {
        "id": "view-in-github",
        "colab_type": "text"
      },
      "source": [
        "<a href=\"https://colab.research.google.com/github/dropcreations/FFmpeg-for-Google-Colab/blob/main/FFmpeg_in_Google_Drive.ipynb\" target=\"_parent\"><img src=\"https://colab.research.google.com/assets/colab-badge.svg\" alt=\"Open In Colab\"/></a>"
      ]
    },
    {
      "cell_type": "markdown",
      "metadata": {
        "id": "KAj1Zu19Q9ft"
      },
      "source": [
        "# __Mount Google Drive__"
      ]
    },
    {
      "cell_type": "code",
      "metadata": {
        "cellView": "form",
        "id": "3MrwsMPDRR6E"
      },
      "source": [
        "#@markdown <br><center><img src='https://upload.wikimedia.org/wikipedia/commons/thumb/d/da/Google_Drive_logo.png/600px-Google_Drive_logo.png' height=\"40\" alt=\"Gdrive-logo\"/></center>\n",
        "#@markdown <center><h3><b>Mount Google Drive</b></h3></center><br>\n",
        "MODE = \"MOUNT\" #@param [\"MOUNT\", \"UNMOUNT\"]\n",
        "#Mount your Gdrive! \n",
        "from google.colab import drive\n",
        "drive.mount._DEBUG = False\n",
        "if MODE == \"MOUNT\":\n",
        "  drive.mount('/content/drive', force_remount=True)\n",
        "elif MODE == \"UNMOUNT\":\n",
        "  try:\n",
        "    drive.flush_and_unmount()\n",
        "  except ValueError:\n",
        "    pass\n",
        "  get_ipython().system_raw(\"rm -rf /root/.config/Google/DriveFS\")"
      ],
      "execution_count": null,
      "outputs": []
    },
    {
      "cell_type": "markdown",
      "metadata": {
        "id": "cvpmFxFwQbUB"
      },
      "source": [
        "# __Install FFmpeg__"
      ]
    },
    {
      "cell_type": "code",
      "metadata": {
        "cellView": "form",
        "id": "M9QHuevAQ3nm"
      },
      "source": [
        "#@markdown <br><center><img src='https://raw.githubusercontent.com/dropcreations/FFmpeg-for-Google-Colab/main/ffmpeg-logo.png' height=\"50\" alt=\"FFmpeg-logo\"/></center>\n",
        "#@markdown <center><h3><b>Install FFmpeg</b></h3></center><br>\n",
        "from IPython.display import clear_output\n",
        "!sudo curl -L https://github.com/BtbN/FFmpeg-Builds/releases/download/latest/ffmpeg-master-latest-linux64-gpl.tar.xz -o /usr/local/bin/ffmpeg.tar.xz\n",
        "clear_output()\n",
        "%cd /usr/local/bin/\n",
        "clear_output()\n",
        "!7z e /usr/local/bin/ffmpeg.tar.xz\n",
        "clear_output()\n",
        "!7z e /usr/local/bin/ffmpeg.tar\n",
        "clear_output()\n",
        "!sudo chmod a+rx /usr/local/bin/ffmpeg\n",
        "clear_output()\n",
        "%cd /content/\n",
        "!sudo curl -L https://mkvtoolnix.download/appimage/MKVToolNix_GUI-66.0.0-x86_64.AppImage -o /usr/local/bin/MKVToolNix_GUI-66.0.0-x86_64.AppImage\n",
        "!sudo chmod u+rx /usr/local/bin/MKVToolNix_GUI-66.0.0-x86_64.AppImage\n",
        "!sudo ln -s /usr/local/bin/MKVToolNix_GUI-66.0.0-x86_64.AppImage /usr/local/bin/mkvmerge\n",
        "!sudo chmod a+rx /usr/local/bin/mkvmerge\n",
        "clear_output()\n",
        "print(\"Successfully Installed.\")"
      ],
      "execution_count": null,
      "outputs": []
    },
    {
      "cell_type": "markdown",
      "metadata": {
        "id": "wbG0v37yRW4t"
      },
      "source": [
        "# __Run FFmpeg Scripts__"
      ]
    },
    {
      "cell_type": "markdown",
      "source": [
        "### __Remux Video files__"
      ],
      "metadata": {
        "id": "bSKeErgLMe4a"
      }
    },
    {
      "cell_type": "markdown",
      "source": [
        "* **Remux** video files without re-encoding.\n",
        "* Add `input_file` path and select a `output format`.\n",
        "* Make sure that you **selected** output format **supports** to the all track types of input file."
      ],
      "metadata": {
        "id": "7rdtqTIKMix6"
      }
    },
    {
      "cell_type": "code",
      "source": [
        "input_file = \"\" #@param {type:\"string\"}\n",
        "output_format = \"mp4\" #@param [\"mp4\", \"mkv\", \"mov\", \"m4v\", \"webm\", \"other\"]\n",
        "save_in_source_dir = True #@param {type:\"boolean\"}\n",
        "\n",
        "import os\n",
        "\n",
        "cmd_line = '-hide_banner -i \"' + input_file + '\" -map 0 -c copy '\n",
        "\n",
        "if output_format == \"other\":\n",
        "    output_format = input(\"Enter output format: \").lower()\n",
        "\n",
        "if save_in_source_dir == True:\n",
        "    output_folder = os.path.dirname(input_file)\n",
        "    output_filename = os.path.basename(input_file)\n",
        "    output_filename_without_extension = os.path.splitext(output_filename)\n",
        "    cmd_line = cmd_line + '\"' + output_folder + \"/\" + output_filename_without_extension[0] + \".\" + output_format + '\"'\n",
        "else:\n",
        "    output_folder = input(\"Enter output folder path: \")\n",
        "    output_filename = os.path.basename(input_file)\n",
        "    output_filename_without_extension = os.path.splitext(output_filename)\n",
        "    cmd_line = cmd_line + '\"' + output_folder + \"/\" + output_filename_without_extension[0] + \".\" + output_format + '\"'\n",
        "\n",
        "!ffmpeg {cmd_line}"
      ],
      "metadata": {
        "cellView": "form",
        "id": "qu8d7FCFMmzE"
      },
      "execution_count": null,
      "outputs": []
    },
    {
      "cell_type": "markdown",
      "source": [
        "### __Trim Video Files__"
      ],
      "metadata": {
        "id": "v9q3MG6nMroF"
      }
    },
    {
      "cell_type": "markdown",
      "source": [
        "* **Trim** video files without re-encoding.\n",
        "* Add `input_file` path and **time duration** to trim."
      ],
      "metadata": {
        "id": "YDyYZuqeMvOk"
      }
    },
    {
      "cell_type": "code",
      "source": [
        "input_file = \"\" #@param {type:\"string\"}\n",
        "start_time = \"00:00:00.000\" #@param {type:\"string\"}\n",
        "end_time = \"00:00:00.000\" #@param {type:\"string\"}\n",
        "save_in_source_dir = True #@param {type:\"boolean\"}\n",
        "\n",
        "import os\n",
        "\n",
        "cmd_line = '-hide_banner -i \"' + input_file + '\" -map 0 -c copy -ss ' + start_time + ' -to ' + end_time + \" \"\n",
        "\n",
        "if save_in_source_dir == True:\n",
        "    output_folder = os.path.dirname(input_file)\n",
        "    output_filename = os.path.basename(input_file)\n",
        "    output_filename_without_extension = os.path.splitext(output_filename)\n",
        "    cmd_line = cmd_line + '\"' + output_folder + \"/\" + output_filename_without_extension[0] + \"_TRIMED\" + output_filename_without_extension[-1] + '\"'\n",
        "else:\n",
        "    output_folder = input(\"Enter output folder path: \")\n",
        "    output_filename = os.path.basename(input_file)\n",
        "    output_filename_without_extension = os.path.splitext(output_filename)\n",
        "    cmd_line = cmd_line + '\"' + output_folder + \"/\" + output_filename_without_extension[0] + \"_TRIMED\" + output_filename_without_extension[-1] + '\"'\n",
        "\n",
        "!ffmpeg {cmd_line}"
      ],
      "metadata": {
        "cellView": "form",
        "id": "54gK9-TYMzGF"
      },
      "execution_count": null,
      "outputs": []
    },
    {
      "cell_type": "markdown",
      "source": [
        "### __Extract Audio__"
      ],
      "metadata": {
        "id": "J5R7BtJTM3rj"
      }
    },
    {
      "cell_type": "markdown",
      "source": [
        "* **Extract** audio from video files.\n",
        "* When extracting **DTS** and **TrueHD** tracks they will be mux to **.mka**"
      ],
      "metadata": {
        "id": "JHrxRvXjM65Q"
      }
    },
    {
      "cell_type": "code",
      "source": [
        "input_file = \"\" #@param {type:\"string\"}\n",
        "save_in_source_dir = True #@param {type:\"boolean\"}\n",
        "\n",
        "import os\n",
        "import json\n",
        "import subprocess\n",
        "\n",
        "ffprobe_json_out = subprocess.check_output([\n",
        "    'ffprobe',\n",
        "    '-hide_banner',\n",
        "    '-loglevel',\n",
        "    'warning',\n",
        "    '-print_format',\n",
        "    'json',\n",
        "    '-show_entries',\n",
        "    'stream',\n",
        "    '-i',\n",
        "    input_file,\n",
        "    ], stderr=subprocess.DEVNULL)\n",
        "json_data = json.loads(ffprobe_json_out)\n",
        "\n",
        "stream_count = len(json_data['streams'])\n",
        "cmd_line = '-hide_banner -i \"' + input_file + '\" '\n",
        "\n",
        "for i in range(stream_count):\n",
        "    codec_type = json_data.get('streams')[int(i)].get('codec_type')\n",
        "    if codec_type == \"audio\":\n",
        "        index = json_data.get('streams')[int(i)].get('index')\n",
        "        codec_name = json_data.get('streams')[int(i)].get('codec_name')\n",
        "        channel_layout = json_data.get('streams')[int(i)].get('channels')\n",
        "        \n",
        "        print(str(index) + \" : \" + codec_name + \" : \" + str(channel_layout) + \" Channels\")\n",
        "\n",
        "track_id = input(\"Enter ID: \")\n",
        "codec_name = json_data.get('streams')[int(track_id)].get('codec_name')\n",
        "if \"opus\" in codec_name:\n",
        "    codec_ext = \"ogg\"\n",
        "elif \"dts\" in codec_name:\n",
        "    codec_ext = \"mka\"\n",
        "elif \"aac\" in codec_name:\n",
        "    codec_ext = \"aac\"\n",
        "elif \"truehd\" in codec_name:\n",
        "    codec_ext = \"mka\"\n",
        "elif codec_name == \"ac3\":\n",
        "    codec_ext = \"ac3\"\n",
        "elif codec_name == \"eac3\":\n",
        "    codec_ext = \"eac3\"\n",
        "elif \"pcm\" in codec_name:\n",
        "    codec_ext = \"wav\"\n",
        "elif \"flac\" in codec_name:\n",
        "    codec_ext = \"flac\"\n",
        "\n",
        "cmd_line = cmd_line + \"-vn -sn -map 0:\" + str(track_id) + \" -c copy \"\n",
        "\n",
        "if save_in_source_dir == True:\n",
        "    output_folder = os.path.dirname(input_file)\n",
        "    output_filename = os.path.basename(input_file)\n",
        "    output_filename_without_extension = os.path.splitext(output_filename)\n",
        "    cmd_line = cmd_line + '\"' + output_folder + \"/\" + output_filename_without_extension[0] + \".\" + codec_ext + '\"'\n",
        "else:\n",
        "    output_folder = input(\"Enter output folder path: \")\n",
        "    output_filename = os.path.basename(input_file)\n",
        "    output_filename_without_extension = os.path.splitext(output_filename)\n",
        "    cmd_line = cmd_line + '\"' + output_folder + \"/\" + output_filename_without_extension[0] + \".\" + codec_ext + '\"'\n",
        "\n",
        "!ffmpeg {cmd_line}"
      ],
      "metadata": {
        "cellView": "form",
        "id": "9ReL8LPWM_gJ"
      },
      "execution_count": null,
      "outputs": []
    },
    {
      "cell_type": "markdown",
      "source": [
        "### __Remove Bitstream Metadata__"
      ],
      "metadata": {
        "id": "2HhXoSQFNDMV"
      }
    },
    {
      "cell_type": "markdown",
      "source": [
        "* For a **AVC (H.264)** track run below cell.\n",
        "* Output file will be saved to the **input file's folder**."
      ],
      "metadata": {
        "id": "D9bDZPonNF_7"
      }
    },
    {
      "cell_type": "code",
      "source": [
        "input_file = \"\" #@param {type:\"string\"}\n",
        "save_in_source_dir = True #@param {type:\"boolean\"}\n",
        "\n",
        "import os\n",
        "\n",
        "cmd_line = '-hide_banner -i \"' + input_file + '\" -map 0 -c copy -bitexact -map_metadata -1 -vbsf filter_units=remove_types=6 '\n",
        "\n",
        "if save_in_source_dir == True:\n",
        "    output_folder = os.path.dirname(input_file)\n",
        "    output_filename = os.path.basename(input_file)\n",
        "    output_filename_without_extension = os.path.splitext(output_filename)\n",
        "    cmd_line = cmd_line + '\"' + output_folder + \"/\" + output_filename_without_extension[0] + \"_BSF_FIXED\" + output_filename_without_extension[-1] + '\"'\n",
        "else:\n",
        "    output_folder = input(\"Enter output folder path: \")\n",
        "    output_filename = os.path.basename(input_file)\n",
        "    output_filename_without_extension = os.path.splitext(output_filename)\n",
        "    cmd_line = cmd_line + '\"' + output_folder + \"/\" + output_filename_without_extension[0] + \"_BSF_FIXED\" + output_filename_without_extension[-1] + '\"'\n",
        "\n",
        "print(f'!ffmpeg {cmd_line}')"
      ],
      "metadata": {
        "cellView": "form",
        "id": "8Tu2aURHNJvp"
      },
      "execution_count": null,
      "outputs": []
    },
    {
      "cell_type": "markdown",
      "source": [
        "* For a **HEVC (H.265)** track run below cell.\n",
        "* This cell will add **only the video track** to the **mkv output**."
      ],
      "metadata": {
        "id": "ZeQkfcTaNM_b"
      }
    },
    {
      "cell_type": "code",
      "source": [
        "input_file = \"\" #@param {type:\"string\"}\n",
        "save_in_source_dir = True #@param {type:\"boolean\"}\n",
        "\n",
        "import os\n",
        "from IPython.display import clear_output\n",
        "\n",
        "cmd_line_1 = '-hide_banner -i \"' + input_file + '\" -an -sn -c:v copy -vbsf hevc_mp4toannexb /content/source-video.hevc'\n",
        "cmd_line_2 = '-hide_banner -i /content/source-video.hevc -c copy -vbsf filter_units=remove_types=39 /content/output.hevc'\n",
        "\n",
        "if save_in_source_dir == True:\n",
        "    output_folder = os.path.dirname(input_file)\n",
        "    output_filename = os.path.basename(input_file)\n",
        "    output_filename_without_extension = os.path.splitext(output_filename)\n",
        "    cmd_line_3 = '--output \"' + output_folder + \"/\" + output_filename_without_extension[0] + '_BSF_FIXED.mkv\" /content/output.hevc'\n",
        "else:\n",
        "    output_folder = input(\"Enter output folder path: \")\n",
        "    output_filename = os.path.basename(input_file)\n",
        "    output_filename_without_extension = os.path.splitext(output_filename)\n",
        "    cmd_line_3 = '--output \"' + output_folder + \"/\" + output_filename_without_extension[0] + '_BSF_FIXED.mkv\" /content/output.hevc'\n",
        "\n",
        "!ffmpeg {cmd_line_1}\n",
        "clear_output()\n",
        "!ffmpeg {cmd_line_2}\n",
        "clear_output()\n",
        "!rm /content/source-video.hevc\n",
        "!mkvmerge {cmd_line_3}\n",
        "!rm /content/output.hevc\n",
        "clear_output()\n",
        "print(\"Completed.\")"
      ],
      "metadata": {
        "cellView": "form",
        "id": "JzhZBR0zNP_V"
      },
      "execution_count": null,
      "outputs": []
    },
    {
      "cell_type": "markdown",
      "source": [
        "### __Encode H.264 | CRF__"
      ],
      "metadata": {
        "id": "RsYc55qeNTGI"
      }
    },
    {
      "cell_type": "markdown",
      "source": [
        "* Enter file paths and output format.\n",
        "* **Change** video settings as you want.\n",
        "* If you also want to **encode the audio** track, select a **codec**."
      ],
      "metadata": {
        "id": "x80iphbwNXAz"
      }
    },
    {
      "cell_type": "markdown",
      "source": [
        "* `aac`        - Advanced Audio Codec (AAC) <br>\n",
        "* `eac3`       - Dolby Digital Plus (EAC-3) <br>\n",
        "* `pcm_s24le`  - Lossless WAV (24bit) <br>\n",
        "* `flac`       - Lossless FLAC <br>\n",
        "* `libopus`    - Opus Audio <br>"
      ],
      "metadata": {
        "id": "XieodPEsNaD5"
      }
    },
    {
      "cell_type": "markdown",
      "source": [
        "* Change **bitrate** and **channel** settings to get various audio **qualities**."
      ],
      "metadata": {
        "id": "mp91Tq8oNd-B"
      }
    },
    {
      "cell_type": "markdown",
      "source": [
        "* `2` - Stereo\n",
        "* `6` - Surround 5.1\n",
        "* `8` - Surround 7.1"
      ],
      "metadata": {
        "id": "r2msq54HNhNN"
      }
    },
    {
      "cell_type": "code",
      "source": [
        "Input_file = \"\"  # @param {type:\"string\"}\n",
        "Output_file = \"\"  # @param {type:\"string\"}\n",
        "Output_format = \"mkv\" #@param [\"mp4\", \"mkv\", \"mov\"]\n",
        "#@markdown <h3><b>Video Settings</b></h3>\n",
        "Preset = \"veryslow\" #@param [\"ultrafast\", \"superfast\", \"veryfast\", \"faster\", \"fast\", \"medium\", \"slow\", \"slower\", \"veryslow\", \"placebo\"]\n",
        "Profile = \"high\" #@param [\"baseline\", \"main\", \"high\", \"high10\", \"high422\", \"high444\"]\n",
        "Level = \"4\" #@param [\"1\", \"1.1\", \"1.2\", \"1.3\", \"2\", \"2.1\", \"2.2\", \"3\", \"3.1\",\"3.2\", \"4\", \"4.1\", \"4.2\", \"5\", \"5.1\", \"5.2\"]\n",
        "Tune = \"None\" #@param [\"None\", \"film\", \"animation\", \"grain\", \"stillimage\", \"psnr\", \"ssim\", \"fastdecode\", \"zerolatency\"]\n",
        "CRF = 19 #@param {type:\"slider\", min:0, max:51, step:1}\n",
        "#@markdown <h3><b>Audio Settings</b></h3>\n",
        "Audio_codec = \"copy\" #@param [\"copy\", \"aac\", \"eac3\", \"pcm_s24le\", \"flac\", \"libopus\"]\n",
        "Audio_bitrate = \"320\"  # @param {type:\"string\"}\n",
        "Audio_channels = \"2\" #@param [\"2\", \"6\", \"8\"]\n",
        "\n",
        "if Tune == \"None\":\n",
        "  cmd = !ffmpeg -i \"{Input_file}\" -c:v libx264 -crf $CRF -preset $Preset -profile:v $Profile -level $Level -maxrate 20000k -bufsize 25000k -partitions all -me_range 120 -refs 4 -keyint_min 121 -rc-lookahead 240 -nal-hrd 1 -sc_threshold 0 -threads 8 -x264-params \"colorprim=bt709:colormatrix=bt709:transfer=bt709:qpmin=6:qpmax=51:bframes=16:lookahead-threads=2:stitchable=1:keyint=240\" -bitexact -map_metadata -1 -vbsf filter_units=remove_types=6 -c:a $Audio_codec -b:a {Audio_bitrate}k -ac $Audio_channels \"{Output_file}.{Output_format}\"\n",
        "  !$cmd\n",
        "else:\n",
        "  cmd = !ffmpeg -i \"{Input_file}\" -c:v libx264 -crf $CRF -tune {Tune} -preset $Preset -profile:v $Profile -level $Level -maxrate 20000k -bufsize 25000k -partitions all -me_range 120 -refs 4 -keyint_min 121 -rc-lookahead 240 -nal-hrd 1 -sc_threshold 0 -threads 8 -x264-params \"colorprim=bt709:colormatrix=bt709:transfer=bt709:qpmin=6:qpmax=51:bframes=16:lookahead-threads=2:stitchable=1:keyint=240\" -bitexact -map_metadata -1 -vbsf filter_units=remove_types=6 -c:a $Audio_codec -b:a {Audio_bitrate}k -ac $Audio_channels \"{Output_file}.{Output_format}\"\n",
        "  !$cmd"
      ],
      "metadata": {
        "cellView": "form",
        "id": "ZzhG6DYSNlk9"
      },
      "execution_count": null,
      "outputs": []
    },
    {
      "cell_type": "markdown",
      "source": [
        "### __Encode H.264 | 2-Pass__"
      ],
      "metadata": {
        "id": "SYpsf6lCNpp5"
      }
    },
    {
      "cell_type": "markdown",
      "source": [
        "* Enter file paths and output format.\n",
        "* **Change** video settings as you want.\n",
        "* If you also want to **encode the audio** track, select a **codec**.\n",
        "* **X** = Bitrate **/ 2** ,<br>\n",
        "  **Maxrate** = Bitrate + **X**<br>\n",
        "  **Bufsize** = Maxrate + **X**"
      ],
      "metadata": {
        "id": "cYj2O2uJNsC1"
      }
    },
    {
      "cell_type": "markdown",
      "source": [
        "* `aac`        - Advanced Audio Codec (AAC) <br>\n",
        "* `eac3`       - Dolby Digital Plus (EAC-3) <br>\n",
        "* `pcm_s24le`  - Lossless WAV (24bit) <br>\n",
        "* `flac`       - Lossless FLAC <br>\n",
        "* `libopus`    - Opus Audio <br>"
      ],
      "metadata": {
        "id": "QpnMo99jNv3X"
      }
    },
    {
      "cell_type": "markdown",
      "source": [
        "* Change **bitrate** and **channel** settings to get various audio **qualities**."
      ],
      "metadata": {
        "id": "1h3mOOlqNy4T"
      }
    },
    {
      "cell_type": "markdown",
      "source": [
        "* `2` - Stereo\n",
        "* `6` - Surround 5.1\n",
        "* `8` - Surround 7.1"
      ],
      "metadata": {
        "id": "mCpnz-jDN2XG"
      }
    },
    {
      "cell_type": "code",
      "source": [
        "Input_file = \"\"  #@param {type:\"string\"}\n",
        "Output_file = \"\"  #@param {type:\"string\"}\n",
        "Output_format = \"mkv\" #@param [\"mp4\", \"mkv\", \"mov\"]\n",
        "#@markdown <h3><b>Video Settings</b></h3>\n",
        "Preset = \"veryslow\" #@param [\"ultrafast\", \"superfast\", \"veryfast\", \"faster\", \"fast\", \"medium\", \"slow\", \"slower\", \"veryslow\", \"placebo\"]\n",
        "Profile = \"high\" #@param [\"baseline\", \"main\", \"high\", \"high10\", \"high422\", \"high444\"]\n",
        "Level = \"4\" #@param [\"1\", \"1.1\", \"1.2\", \"1.3\", \"2\", \"2.1\", \"2.2\", \"3\", \"3.1\",\"3.2\", \"4\", \"4.1\", \"4.2\", \"5\", \"5.1\", \"5.2\"]\n",
        "Tune = \"None\" #@param [\"None\", \"film\", \"animation\", \"grain\", \"stillimage\", \"psnr\", \"ssim\", \"fastdecode\", \"zerolatency\"]\n",
        "Bitrate = \"5800\" #@param {type:\"string\"}\n",
        "Maxrate = \"8700\" #@param {type:\"string\"}\n",
        "Bufsize = \"11600\" #@param {type:\"string\"}\n",
        "#@markdown <h3><b>Audio Settings</b></h3>\n",
        "Audio_codec = \"copy\" #@param [\"copy\", \"aac\", \"eac3\", \"pcm_s24le\", \"flac\", \"libopus\"]\n",
        "Audio_bitrate = \"320\"  #@param {type:\"string\"}\n",
        "Audio_channels = \"2\" #@param [\"2\", \"6\", \"8\"]\n",
        "\n",
        "if Tune == \"None\":\n",
        "  cmd = !ffmpeg -i \"{Input_file}\" -c:v libx264 -pass 1 -b:v {Bitrate}k -preset $Preset -profile:v $Profile -level $Level -maxrate {Maxrate}k -bufsize {Bufsize}k -partitions all -me_range 24 -refs 4 -keyint_min 24 -rc-lookahead 48 -nal-hrd 1 -sc_threshold 0 -threads 8 -x264-params \"colorprim=bt709:colormatrix=bt709:transfer=bt709:qpmin=6:qpmax=51:bframes=4:stitchable=1:keyint=48\" -an -y -f null /dev/null\n",
        "  !$cmd\n",
        "  cmd = !ffmpeg -i \"{Input_file}\" -c:v libx264 -pass 2 -b:v {Bitrate}k -preset $Preset -profile:v $Profile -level $Level -maxrate {Maxrate}k -bufsize {Bufsize}k -partitions all -me_range 24 -refs 4 -keyint_min 24 -rc-lookahead 48 -nal-hrd 1 -sc_threshold 0 -threads 8 -x264-params \"colorprim=bt709:colormatrix=bt709:transfer=bt709:qpmin=6:qpmax=51:bframes=4:stitchable=1:keyint=48\" -bitexact -map_metadata -1 -vbsf filter_units=remove_types=6 -c:a $Audio_codec -b:a {Audio_bitrate}k -ac $Audio_channels \"{Output_file}.{Output_format}\"\n",
        "  !$cmd\n",
        "else:\n",
        "  cmd = !ffmpeg -i \"{Input_file}\" -c:v libx264 -pass 1 -b:v {Bitrate}k -tune {Tune} -preset $Preset -profile:v $Profile -level $Level -maxrate {Maxrate}k -bufsize {Bufsize}k -partitions all -me_range 24 -refs 4 -keyint_min 24 -rc-lookahead 48 -nal-hrd 1 -sc_threshold 0 -threads 8 -x264-params \"colorprim=bt709:colormatrix=bt709:transfer=bt709:qpmin=6:qpmax=51:bframes=4:stitchable=1:keyint=48\" -an -y -f null /dev/null\n",
        "  !$cmd\n",
        "  cmd = !ffmpeg -i \"{Input_file}\" -c:v libx264 -pass 2 -b:v {Bitrate}k -tune {Tune} -preset $Preset -profile:v $Profile -level $Level -maxrate {Maxrate}k -bufsize {Bufsize}k -partitions all -me_range 24 -refs 4 -keyint_min 24 -rc-lookahead 48 -nal-hrd 1 -sc_threshold 0 -threads 8 -x264-params \"colorprim=bt709:colormatrix=bt709:transfer=bt709:qpmin=6:qpmax=51:bframes=4:stitchable=1:keyint=48\" -bitexact -map_metadata -1 -vbsf filter_units=remove_types=6 -c:a $Audio_codec -b:a {Audio_bitrate}k -ac $Audio_channels \"{Output_file}.{Output_format}\"\n",
        "  !$cmd"
      ],
      "metadata": {
        "cellView": "form",
        "id": "Ph3-tLYoN5Zs"
      },
      "execution_count": null,
      "outputs": []
    },
    {
      "cell_type": "markdown",
      "source": [
        "### __HDR to SDR__"
      ],
      "metadata": {
        "id": "2k0_wCH0HOEJ"
      }
    },
    {
      "cell_type": "markdown",
      "source": [
        "* Convert **HDR** video to **SDR** from below cell.\n",
        "* Enter **file path** and selcet a video **codec**."
      ],
      "metadata": {
        "id": "eEluAGkNHVO_"
      }
    },
    {
      "cell_type": "code",
      "source": [
        "input_file = \"\" #@param {type:\"string\"}\n",
        "codec = \"HEVC\" #@param [\"H.264\", \"HEVC\"]\n",
        "crf = 22 #@param {type:\"slider\", min:0, max:51, step:1}\n",
        "bit_depth = \"10-Bit\" #@param [\"8-Bit\", \"10-Bit\"]\n",
        "tone_map = \"hable\" #@param [\"none\", \"clip\", \"linear\", \"gamma\", \"reinhard\", \"hable\", \"mobius\"]\n",
        "save_in_source_dir = True #@param {type:\"boolean\"}\n",
        "\n",
        "import os\n",
        "\n",
        "if codec == \"H.264\":\n",
        "  codec = \"libx264\"\n",
        "elif codec == \"HEVC\":\n",
        "  codec = \"libx265\"\n",
        "\n",
        "if bit_depth == \"8-Bit\":\n",
        "    bit_depth = \"yuv420p\"\n",
        "elif bit_depth == \"10-Bit\":\n",
        "    bit_depth = \"yuv420p10le\"\n",
        "\n",
        "cmd_line = '-hide_banner -i \"' + input_file + '\" -max_muxing_queue_size 1024 -c:v ' + codec + \" -crf:v \" + str(crf) + \" -preset:v medium -pix_fmt \" + bit_depth + \" \"\n",
        "if codec == \"libx265\":\n",
        "    cmd_line = cmd_line + '-x265-params \"aq-mode=2:repeat-headers=0:strong-intra-smoothing=1:bframes=4:b-adapt=2:frame-threads=0\" '\n",
        "cmd_line = cmd_line + \"-vf zscale=t=linear:npl=100,format=gbrpf32le,zscale=p=bt709,tonemap=tonemap=\" + tone_map + \":desat=0,zscale=t=bt709:m=bt709:r=tv,format=\" + bit_depth + \" \"\n",
        "\n",
        "if save_in_source_dir == True:\n",
        "    output_folder = os.path.dirname(input_file)\n",
        "    output_filename = os.path.basename(input_file)\n",
        "    output_filename_without_extension = os.path.splitext(output_filename)\n",
        "    cmd_line = cmd_line + '\"' + output_folder + \"/\" + output_filename_without_extension[0] + \"_SDR\" + output_filename_without_extension[-1] + '\"'\n",
        "else:\n",
        "    output_folder = input(\"Enter output folder path: \")\n",
        "    output_filename = os.path.basename(input_file)\n",
        "    output_filename_without_extension = os.path.splitext(output_filename)\n",
        "    cmd_line = cmd_line + '\"' + output_folder + \"/\" + output_filename_without_extension[0] + \"_SDR\" + output_filename_without_extension[-1] + '\"'\n",
        "\n",
        "print(f'!ffmpeg {cmd_line}')"
      ],
      "metadata": {
        "id": "kn_Z3vq4HS5w",
        "cellView": "form"
      },
      "execution_count": null,
      "outputs": []
    }
  ]
}