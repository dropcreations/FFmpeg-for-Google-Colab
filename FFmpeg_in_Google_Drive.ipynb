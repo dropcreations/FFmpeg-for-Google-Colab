{
  "nbformat": 4,
  "nbformat_minor": 0,
  "metadata": {
    "colab": {
      "name": "FFmpeg in Google Drive.ipynb",
      "provenance": [],
      "collapsed_sections": [],
      "authorship_tag": "ABX9TyMlQPhdYVYAOSVjGb09WUEX",
      "include_colab_link": true
    },
    "kernelspec": {
      "name": "python3",
      "display_name": "Python 3"
    },
    "language_info": {
      "name": "python"
    }
  },
  "cells": [
    {
      "cell_type": "markdown",
      "metadata": {
        "id": "view-in-github",
        "colab_type": "text"
      },
      "source": [
        "<a href=\"https://colab.research.google.com/github/dropcreations/FFmpeg-for-Google-Colab/blob/main/FFmpeg_in_Google_Drive.ipynb\" target=\"_parent\"><img src=\"https://colab.research.google.com/assets/colab-badge.svg\" alt=\"Open In Colab\"/></a>"
      ]
    },
    {
      "cell_type": "markdown",
      "metadata": {
        "id": "cvpmFxFwQbUB"
      },
      "source": [
        "# __Install FFmpeg__"
      ]
    },
    {
      "cell_type": "code",
      "metadata": {
        "cellView": "form",
        "id": "M9QHuevAQ3nm"
      },
      "source": [
        "#@markdown <br><center><img src='https://raw.githubusercontent.com/dropcreations/FFmpeg-for-Google-Colab/main/ffmpeg-logo.png' height=\"50\" alt=\"FFmpeg-logo\"/></center>\n",
        "#@markdown <center><h3><b>Install FFmpeg 4.4</b></h3></center><br>\n",
        "!sudo curl -L https://github.com/BtbN/FFmpeg-Builds/releases/download/latest/ffmpeg-n4.4-latest-linux64-gpl-4.4.tar.xz -o /usr/local/bin/ffmpeg.tar.xz\n",
        "!sudo apt update\n",
        "!sudo apt install p7zip-full p7zip-rar unrar rar\n",
        "%cd /usr/local/bin/\n",
        "!7z e /usr/local/bin/ffmpeg.tar.xz\n",
        "!7z e /usr/local/bin/ffmpeg.tar\n",
        "!sudo chmod a+rx /usr/local/bin/ffmpeg\n",
        "%cd /content/\n",
        "print(\"Successfully Installed.\")"
      ],
      "execution_count": null,
      "outputs": []
    },
    {
      "cell_type": "markdown",
      "metadata": {
        "id": "KAj1Zu19Q9ft"
      },
      "source": [
        "# __Mount Google Drive__"
      ]
    },
    {
      "cell_type": "code",
      "metadata": {
        "cellView": "form",
        "id": "3MrwsMPDRR6E"
      },
      "source": [
        "#@markdown <br><center><img src='https://upload.wikimedia.org/wikipedia/commons/thumb/d/da/Google_Drive_logo.png/600px-Google_Drive_logo.png' height=\"50\" alt=\"Gdrive-logo\"/></center>\n",
        "#@markdown <center><h3><b>Mount Google Drive</b></h3></center><br>\n",
        "MODE = \"MOUNT\" #@param [\"MOUNT\", \"UNMOUNT\"]\n",
        "#Mount your Gdrive! \n",
        "from google.colab import drive\n",
        "drive.mount._DEBUG = False\n",
        "if MODE == \"MOUNT\":\n",
        "  drive.mount('/content/drive', force_remount=True)\n",
        "elif MODE == \"UNMOUNT\":\n",
        "  try:\n",
        "    drive.flush_and_unmount()\n",
        "  except ValueError:\n",
        "    pass\n",
        "  get_ipython().system_raw(\"rm -rf /root/.config/Google/DriveFS\")"
      ],
      "execution_count": null,
      "outputs": []
    },
    {
      "cell_type": "markdown",
      "metadata": {
        "id": "wbG0v37yRW4t"
      },
      "source": [
        "# __Run FFmpeg Scripts__"
      ]
    },
    {
      "cell_type": "markdown",
      "source": [
        "### __Remux Video files__"
      ],
      "metadata": {
        "id": "bSKeErgLMe4a"
      }
    },
    {
      "cell_type": "markdown",
      "source": [
        "* **Remux** video files without re-encoding.\n",
        "* Add file path and select a **output format**.\n",
        "* Make sure that you **selected** output format **supports** to the all track types of input file."
      ],
      "metadata": {
        "id": "7rdtqTIKMix6"
      }
    },
    {
      "cell_type": "code",
      "source": [
        "import os, sys, re\n",
        "File_Path = \"\" #@param {type:\"string\"}\n",
        "Output_Format = \"mp4\" #@param [\"mp4\", \"mkv\", \"mov\", \"m4v\"]\n",
        "\n",
        "delsplit = re.search(\"\\/(?:.(?!\\/))+$\", File_Path)\n",
        "output_file_path = re.search(\"^[\\/].+\\/\", File_Path)\n",
        "filename = re.sub(\"^[\\/]\", \"\", delsplit.group(0))\n",
        "filename_raw = re.sub(\".{4}$\", \"\", filename)\n",
        "\n",
        "os.environ['inputFile'] = File_Path\n",
        "os.environ['outputPath'] = output_file_path.group(0)\n",
        "os.environ['fileName'] = filename_raw\n",
        "os.environ['fileType'] = Output_Format\n",
        "\n",
        "!ffmpeg -hide_banner -i \"$inputFile\" -map 0 -c copy -strict experimental \"$outputPath\"/\"$fileName\"-REMUX.\"$fileType\""
      ],
      "metadata": {
        "cellView": "form",
        "id": "qu8d7FCFMmzE"
      },
      "execution_count": null,
      "outputs": []
    },
    {
      "cell_type": "markdown",
      "source": [
        "### __Trim Video Files__"
      ],
      "metadata": {
        "id": "v9q3MG6nMroF"
      }
    },
    {
      "cell_type": "markdown",
      "source": [
        "* **Trim** video files without re-encoding.\n",
        "* Add file path and time duration to trim."
      ],
      "metadata": {
        "id": "YDyYZuqeMvOk"
      }
    },
    {
      "cell_type": "code",
      "source": [
        "import os, sys, re\n",
        "\n",
        "File_Path = \"\" #@param {type:\"string\"}\n",
        "Start_Time = \"00:00:00.000\" #@param {type:\"string\"}\n",
        "End_Time = \"00:00:00.000\" #@param {type:\"string\"}\n",
        "\n",
        "output_file_path = re.search(\"^[\\/].+\\/\", File_Path)\n",
        "output_file_path_raw = output_file_path.group(0)\n",
        "delsplit = re.search(\"\\/(?:.(?!\\/))+$\", File_Path)\n",
        "filename = re.sub(\"^[\\/]\", \"\", delsplit.group(0))\n",
        "filename_raw = re.sub(\".{4}$\", \"\", filename)\n",
        "file_extension = re.search(\".{3}$\", filename)\n",
        "file_extension_raw = file_extension.group(0)\n",
        "\n",
        "os.environ['inputFile'] = File_Path\n",
        "os.environ['outputPath'] = output_file_path_raw\n",
        "os.environ['startTime'] = Start_Time\n",
        "os.environ['endTime'] = End_Time\n",
        "os.environ['fileName'] = filename_raw\n",
        "os.environ['fileExtension'] = file_extension_raw\n",
        "\n",
        "!ffmpeg -hide_banner -i \"$inputFile\" -map 0 -ss \"$startTime\" -to \"$endTime\" -c copy \"$outputPath\"/\"$fileName\"-TRIM.\"$fileExtension\""
      ],
      "metadata": {
        "cellView": "form",
        "id": "54gK9-TYMzGF"
      },
      "execution_count": null,
      "outputs": []
    },
    {
      "cell_type": "markdown",
      "source": [
        "### __Extract Audio__"
      ],
      "metadata": {
        "id": "J5R7BtJTM3rj"
      }
    },
    {
      "cell_type": "markdown",
      "source": [
        "* **Extract** audio from video files.\n",
        "* When extracting DTS and TrueHD tracks, select **.mka**"
      ],
      "metadata": {
        "id": "JHrxRvXjM65Q"
      }
    },
    {
      "cell_type": "code",
      "source": [
        "import os, sys, re\n",
        "\n",
        "File_Path = \"\" #@param {type:\"string\"}\n",
        "Output_Format = \"m4a\" #@param [\"m4a\", \"mka\", \"eac3\", \"ac3\", \"aac\", \"mp3\", \"opus\", \"flac\", \"wav\"]\n",
        "\n",
        "delsplit = re.search(\"\\/(?:.(?!\\/))+$\", File_Path)\n",
        "output_file_path = re.search(\"^[\\/].+\\/\", File_Path)\n",
        "filename = re.sub(\"^[\\/]\", \"\", delsplit.group(0))\n",
        "filename_raw = re.sub(\".{4}$\", \"\", filename)\n",
        "\n",
        "os.environ['inputFile'] = File_Path\n",
        "os.environ['outputPath'] = output_file_path.group(0)\n",
        "os.environ['fileName'] = filename_raw\n",
        "os.environ['fileType'] = Output_Format\n",
        "\n",
        "!ffmpeg -hide_banner -i \"$inputFile\" -vn -c:a copy \"$outputPath\"/\"$fileName\"-AUDIO.\"$fileType\""
      ],
      "metadata": {
        "cellView": "form",
        "id": "9ReL8LPWM_gJ"
      },
      "execution_count": null,
      "outputs": []
    },
    {
      "cell_type": "markdown",
      "source": [
        "### __Remove Bitstream Metadata__"
      ],
      "metadata": {
        "id": "2HhXoSQFNDMV"
      }
    },
    {
      "cell_type": "markdown",
      "source": [
        "* For a **AVC (H.264)** track run below cell.\n",
        "* Output file will be saved to the **input file's folder**."
      ],
      "metadata": {
        "id": "D9bDZPonNF_7"
      }
    },
    {
      "cell_type": "code",
      "source": [
        "import os, sys, re\n",
        "\n",
        "Input_file = \"\" #@param {type:\"string\"}\n",
        "\n",
        "cmd = output_file_path = re.search(\"^[\\/].+\\/\", Input_file)\n",
        "output_file_path_raw = output_file_path.group(0)\n",
        "delsplit = re.search(\"\\/(?:.(?!\\/))+$\", Input_file)\n",
        "filename = re.sub(\"^[\\/]\", \"\", delsplit.group(0))\n",
        "filename_raw = re.sub(\".{4}$\", \"\", filename)\n",
        "file_extension = re.search(\".{3}$\", filename)\n",
        "file_extension_raw = file_extension.group(0)\n",
        "\n",
        "os.environ['inputFile'] = Input_file\n",
        "os.environ['outputPath'] = output_file_path_raw\n",
        "os.environ['fileName'] = filename_raw\n",
        "os.environ['fileExtension'] = file_extension_raw\n",
        "\n",
        "!ffmpeg -hide_banner -i \"$inputFile\" -map 0 -c copy -bitexact -map_metadata -1 -vbsf filter_units=remove_types=6 \"$outputPath\"/\"$fileName\"-FIXED.\"$fileExtension\"\n",
        "clear_output()\n",
        "print(\"Complete\")"
      ],
      "metadata": {
        "cellView": "form",
        "id": "8Tu2aURHNJvp"
      },
      "execution_count": null,
      "outputs": []
    },
    {
      "cell_type": "markdown",
      "source": [
        "* For a **HEVC (H.265)** track run below cell.\n",
        "* Output is a **raw bitstream** file. (**.hevc**)"
      ],
      "metadata": {
        "id": "ZeQkfcTaNM_b"
      }
    },
    {
      "cell_type": "code",
      "source": [
        "Input_file = \"\" #@param {type:\"string\"}\n",
        "Output_file = \"\" #@param {type:\"string\"}\n",
        "\n",
        "!ffmpeg -hide_banner -i \"{Input_file}\" -c:v copy -vbsf hevc_mp4toannexb source-video.hevc\n",
        "!ffmpeg -hide_banner -i source-video.hevc -c copy -vbsf filter_units=remove_types=39 \"{Output_file}.hevc\"\n",
        "clear_output()\n",
        "print(\"Complete\")"
      ],
      "metadata": {
        "cellView": "form",
        "id": "JzhZBR0zNP_V"
      },
      "execution_count": null,
      "outputs": []
    },
    {
      "cell_type": "markdown",
      "source": [
        "### __Encode H.264 | CRF__"
      ],
      "metadata": {
        "id": "RsYc55qeNTGI"
      }
    },
    {
      "cell_type": "markdown",
      "source": [
        "* Enter file paths and output format.\n",
        "* **Change** video settings as you want.\n",
        "* If you also want to **encode the audio** track, select a **codec**."
      ],
      "metadata": {
        "id": "x80iphbwNXAz"
      }
    },
    {
      "cell_type": "markdown",
      "source": [
        "* `aac`        - Advanced Audio Codec (AAC) <br>\n",
        "* `eac3`       - Dolby Digital Plus (EAC-3) <br>\n",
        "* `pcm_s24le`  - Lossless WAV (24bit) <br>\n",
        "* `flac`       - Lossless FLAC <br>\n",
        "* `libopus`    - Opus Audio <br>"
      ],
      "metadata": {
        "id": "XieodPEsNaD5"
      }
    },
    {
      "cell_type": "markdown",
      "source": [
        "* Change **bitrate** and **channel** settings to get various audio **qualities**."
      ],
      "metadata": {
        "id": "mp91Tq8oNd-B"
      }
    },
    {
      "cell_type": "markdown",
      "source": [
        "* `2` - Stereo\n",
        "* `6` - Surround 5.1\n",
        "* `8` - Surround 7.1"
      ],
      "metadata": {
        "id": "r2msq54HNhNN"
      }
    },
    {
      "cell_type": "code",
      "source": [
        "Input_file = \"\"  # @param {type:\"string\"}\n",
        "Output_file = \"\"  # @param {type:\"string\"}\n",
        "Output_format = \"mkv\" #@param [\"mp4\", \"mkv\", \"mov\"]\n",
        "#@markdown <h3><b>Video Settings</b></h3>\n",
        "Preset = \"veryslow\" #@param [\"ultrafast\", \"superfast\", \"veryfast\", \"faster\", \"fast\", \"medium\", \"slow\", \"slower\", \"veryslow\", \"placebo\"]\n",
        "Profile = \"high\" #@param [\"baseline\", \"main\", \"high\", \"high10\", \"high422\", \"high444\"]\n",
        "Level = \"4\" #@param [\"1\", \"1.1\", \"1.2\", \"1.3\", \"2\", \"2.1\", \"2.2\", \"3\", \"3.1\",\"3.2\", \"4\", \"4.1\", \"4.2\", \"5\", \"5.1\", \"5.2\"]\n",
        "Tune = \"None\" #@param [\"None\", \"film\", \"animation\", \"grain\", \"stillimage\", \"psnr\", \"ssim\", \"fastdecode\", \"zerolatency\"]\n",
        "CRF = 19 #@param {type:\"slider\", min:0, max:51, step:1}\n",
        "#@markdown <h3><b>Audio Settings</b></h3>\n",
        "Audio_codec = \"copy\" #@param [\"copy\", \"aac\", \"eac3\", \"pcm_s24le\", \"flac\", \"libopus\"]\n",
        "Audio_bitrate = \"320\"  # @param {type:\"string\"}\n",
        "Audio_channels = \"2\" #@param [\"2\", \"6\", \"8\"]\n",
        "\n",
        "if Tune == \"None\":\n",
        "  cmd = !ffmpeg -i \"{Input_file}\" -c:v libx264 -crf $CRF -preset $Preset -profile:v $Profile -level $Level -maxrate 20000k -bufsize 25000k -partitions all -me_range 120 -refs 4 -keyint_min 121 -rc-lookahead 240 -nal-hrd 1 -sc_threshold 0 -threads 8 -x264-params \"colorprim=bt709:colormatrix=bt709:transfer=bt709:qpmin=6:qpmax=51:bframes=16:lookahead-threads=2:stitchable=1:keyint=240\" -bitexact -map_metadata -1 -vbsf filter_units=remove_types=6 -c:a $Audio_codec -b:a {Audio_bitrate}k -ac $Audio_channels \"{Output_file}.{Output_format}\"\n",
        "  !$cmd\n",
        "else:\n",
        "  cmd = !ffmpeg -i \"{Input_file}\" -c:v libx264 -crf $CRF -tune {Tune} -preset $Preset -profile:v $Profile -level $Level -maxrate 20000k -bufsize 25000k -partitions all -me_range 120 -refs 4 -keyint_min 121 -rc-lookahead 240 -nal-hrd 1 -sc_threshold 0 -threads 8 -x264-params \"colorprim=bt709:colormatrix=bt709:transfer=bt709:qpmin=6:qpmax=51:bframes=16:lookahead-threads=2:stitchable=1:keyint=240\" -bitexact -map_metadata -1 -vbsf filter_units=remove_types=6 -c:a $Audio_codec -b:a {Audio_bitrate}k -ac $Audio_channels \"{Output_file}.{Output_format}\"\n",
        "  !$cmd"
      ],
      "metadata": {
        "cellView": "form",
        "id": "ZzhG6DYSNlk9"
      },
      "execution_count": null,
      "outputs": []
    },
    {
      "cell_type": "markdown",
      "source": [
        "### __Encode H.264 | 2-Pass__"
      ],
      "metadata": {
        "id": "SYpsf6lCNpp5"
      }
    },
    {
      "cell_type": "markdown",
      "source": [
        "* Enter file paths and output format.\n",
        "* **Change** video settings as you want.\n",
        "* If you also want to **encode the audio** track, select a **codec**.\n",
        "* **X** = Bitrate **/ 2** ,<br>\n",
        "  **Maxrate** = Bitrate + **X**<br>\n",
        "  **Bufsize** = Maxrate + **X**"
      ],
      "metadata": {
        "id": "cYj2O2uJNsC1"
      }
    },
    {
      "cell_type": "markdown",
      "source": [
        "* `aac`        - Advanced Audio Codec (AAC) <br>\n",
        "* `eac3`       - Dolby Digital Plus (EAC-3) <br>\n",
        "* `pcm_s24le`  - Lossless WAV (24bit) <br>\n",
        "* `flac`       - Lossless FLAC <br>\n",
        "* `libopus`    - Opus Audio <br>"
      ],
      "metadata": {
        "id": "QpnMo99jNv3X"
      }
    },
    {
      "cell_type": "markdown",
      "source": [
        "* Change **bitrate** and **channel** settings to get various audio **qualities**."
      ],
      "metadata": {
        "id": "1h3mOOlqNy4T"
      }
    },
    {
      "cell_type": "markdown",
      "source": [
        "* `2` - Stereo\n",
        "* `6` - Surround 5.1\n",
        "* `8` - Surround 7.1"
      ],
      "metadata": {
        "id": "mCpnz-jDN2XG"
      }
    },
    {
      "cell_type": "code",
      "source": [
        "Input_file = \"\"  #@param {type:\"string\"}\n",
        "Output_file = \"\"  #@param {type:\"string\"}\n",
        "Output_format = \"mkv\" #@param [\"mp4\", \"mkv\", \"mov\"]\n",
        "#@markdown <h3><b>Video Settings</b></h3>\n",
        "Preset = \"veryslow\" #@param [\"ultrafast\", \"superfast\", \"veryfast\", \"faster\", \"fast\", \"medium\", \"slow\", \"slower\", \"veryslow\", \"placebo\"]\n",
        "Profile = \"high\" #@param [\"baseline\", \"main\", \"high\", \"high10\", \"high422\", \"high444\"]\n",
        "Level = \"4\" #@param [\"1\", \"1.1\", \"1.2\", \"1.3\", \"2\", \"2.1\", \"2.2\", \"3\", \"3.1\",\"3.2\", \"4\", \"4.1\", \"4.2\", \"5\", \"5.1\", \"5.2\"]\n",
        "Tune = \"None\" #@param [\"None\", \"film\", \"animation\", \"grain\", \"stillimage\", \"psnr\", \"ssim\", \"fastdecode\", \"zerolatency\"]\n",
        "Bitrate = \"5800\" #@param {type:\"string\"}\n",
        "Maxrate = \"8700\" #@param {type:\"string\"}\n",
        "Bufsize = \"11600\" #@param {type:\"string\"}\n",
        "#@markdown <h3><b>Audio Settings</b></h3>\n",
        "Audio_codec = \"copy\" #@param [\"copy\", \"aac\", \"eac3\", \"pcm_s24le\", \"flac\", \"libopus\"]\n",
        "Audio_bitrate = \"320\"  #@param {type:\"string\"}\n",
        "Audio_channels = \"2\" #@param [\"2\", \"6\", \"8\"]\n",
        "\n",
        "if Tune == \"None\":\n",
        "  cmd = !ffmpeg -i \"{Input_file}\" -c:v libx264 -pass 1 -b:v {Bitrate}k -preset $Preset -profile:v $Profile -level $Level -maxrate {Maxrate}k -bufsize {Bufsize}k -partitions all -me_range 24 -refs 4 -keyint_min 24 -rc-lookahead 48 -nal-hrd 1 -sc_threshold 0 -threads 8 -x264-params \"colorprim=bt709:colormatrix=bt709:transfer=bt709:qpmin=6:qpmax=51:bframes=4:stitchable=1:keyint=48\" -an -y -f null /dev/null\n",
        "  !$cmd\n",
        "  cmd = !ffmpeg -i \"{Input_file}\" -c:v libx264 -pass 2 -b:v {Bitrate}k -preset $Preset -profile:v $Profile -level $Level -maxrate {Maxrate}k -bufsize {Bufsize}k -partitions all -me_range 24 -refs 4 -keyint_min 24 -rc-lookahead 48 -nal-hrd 1 -sc_threshold 0 -threads 8 -x264-params \"colorprim=bt709:colormatrix=bt709:transfer=bt709:qpmin=6:qpmax=51:bframes=4:stitchable=1:keyint=48\" -bitexact -map_metadata -1 -vbsf filter_units=remove_types=6 -c:a $Audio_codec -b:a {Audio_bitrate}k -ac $Audio_channels \"{Output_file}.{Output_format}\"\n",
        "  !$cmd\n",
        "else:\n",
        "  cmd = !ffmpeg -i \"{Input_file}\" -c:v libx264 -pass 1 -b:v {Bitrate}k -tune {Tune} -preset $Preset -profile:v $Profile -level $Level -maxrate {Maxrate}k -bufsize {Bufsize}k -partitions all -me_range 24 -refs 4 -keyint_min 24 -rc-lookahead 48 -nal-hrd 1 -sc_threshold 0 -threads 8 -x264-params \"colorprim=bt709:colormatrix=bt709:transfer=bt709:qpmin=6:qpmax=51:bframes=4:stitchable=1:keyint=48\" -an -y -f null /dev/null\n",
        "  !$cmd\n",
        "  cmd = !ffmpeg -i \"{Input_file}\" -c:v libx264 -pass 2 -b:v {Bitrate}k -tune {Tune} -preset $Preset -profile:v $Profile -level $Level -maxrate {Maxrate}k -bufsize {Bufsize}k -partitions all -me_range 24 -refs 4 -keyint_min 24 -rc-lookahead 48 -nal-hrd 1 -sc_threshold 0 -threads 8 -x264-params \"colorprim=bt709:colormatrix=bt709:transfer=bt709:qpmin=6:qpmax=51:bframes=4:stitchable=1:keyint=48\" -bitexact -map_metadata -1 -vbsf filter_units=remove_types=6 -c:a $Audio_codec -b:a {Audio_bitrate}k -ac $Audio_channels \"{Output_file}.{Output_format}\"\n",
        "  !$cmd"
      ],
      "metadata": {
        "cellView": "form",
        "id": "Ph3-tLYoN5Zs"
      },
      "execution_count": null,
      "outputs": []
    }
  ]
}